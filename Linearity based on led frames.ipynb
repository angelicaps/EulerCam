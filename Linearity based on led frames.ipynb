{
 "cells": [
  {
   "cell_type": "code",
   "execution_count": 18,
   "id": "2f37ab95",
   "metadata": {},
   "outputs": [],
   "source": [
    "from matplotlib.patches import Circle, Wedge, Polygon\n",
    "import matplotlib.gridspec as gridspec\n",
    "from scipy.optimize import curve_fit\n",
    "from scipy.stats import linregress\n",
    "import matplotlib.pyplot as plt\n",
    "from astropy.io import fits\n",
    "from astropy.wcs import WCS\n",
    "import matplotlib as mpl\n",
    "from scipy import stats\n",
    "import pandas as pd\n",
    "import logging, sys\n",
    "import numpy as np\n",
    "import statistics\n",
    "import warnings\n",
    "import argparse\n",
    "import datetime\n",
    "import logging\n",
    "import shutil\n",
    "import time\n",
    "import glob\n",
    "import math\n",
    "import sys\n",
    "import csv\n",
    "import os\n",
    "\n",
    "\n",
    "warnings.filterwarnings(\"ignore\")\n",
    "\n",
    "logging.disable(sys.maxsize)\n",
    "if not sys.warnoptions:\n",
    "    warnings.simplefilter(\"ignore\")\n",
    "\n",
    "logging.disable(sys.maxsize)\n",
    "\n"
   ]
  },
  {
   "cell_type": "markdown",
   "id": "695491a4",
   "metadata": {},
   "source": [
    "### Path to your data"
   ]
  },
  {
   "cell_type": "code",
   "execution_count": 19,
   "id": "78cdae18",
   "metadata": {},
   "outputs": [],
   "source": [
    "data_dir_base =\"/Users/angelicapsaridi/Documents/Geneva/Recommissioning/Data/2022-09-06/\" # Raw data stored\n",
    "output_path = '/Users/angelicapsaridi/Documents/Geneva/Thesis/ECAM/'\n",
    "os.chdir(data_dir_base)\n"
   ]
  },
  {
   "cell_type": "markdown",
   "id": "fb7a909b",
   "metadata": {},
   "source": [
    "### Find the LED frames"
   ]
  },
  {
   "cell_type": "code",
   "execution_count": 20,
   "id": "35f69bb0",
   "metadata": {},
   "outputs": [
    {
     "name": "stdout",
     "output_type": "stream",
     "text": [
      "LED Flats in VG 3\n",
      "LED Flats in RG 0\n",
      "LED Flats in BG 124\n",
      "LED Flats in NG 0\n",
      "LED Flats in IC 0\n"
     ]
    }
   ],
   "source": [
    "LED_VG = []\n",
    "LED_RG = []\n",
    "LED_BG = []\n",
    "LED_NG = []\n",
    "LED_IC = []\n",
    "\n",
    "\n",
    "\n",
    "\n",
    "for frame in glob.glob(\"ECAM.*.fits\"):\n",
    "    hdul = fits.open(frame)\n",
    "    hdr = hdul[0].header \n",
    "    if hdr['OBJECT'] == \"led\" and hdr['FILTER'] == \"VG\":\n",
    "            LED_VG.append(hdr['ARCFILE'])\n",
    "    elif hdr['OBJECT'] == \"led\" and hdr['FILTER'] == \"RG\":\n",
    "            LED_RG.append(hdr['ARCFILE'])\n",
    "    elif hdr['OBJECT'] == \"led\" and hdr['FILTER'] == \"BG\":\n",
    "            LED_BG.append(hdr['ARCFILE'])\n",
    "    elif hdr['OBJECT'] == \"led\" and hdr['FILTER'] == \"NG\":\n",
    "            LED_NG.append(hdr['ARCFILE'])\n",
    "    elif hdr['OBJECT'] == \"led\" and hdr['FILTER'] == \"IC\":\n",
    "            LED_IC.append(hdr['ARCFILE'])\n",
    "            \n",
    "print('LED Flats in VG',len(LED_VG))\n",
    "print('LED Flats in RG',len(LED_RG))\n",
    "print('LED Flats in BG',len(LED_BG))\n",
    "print('LED Flats in NG',len(LED_NG))\n",
    "print('LED Flats in IC',len(LED_IC))"
   ]
  },
  {
   "cell_type": "markdown",
   "id": "c44bed59",
   "metadata": {},
   "source": [
    "### Analyzing BG filter"
   ]
  },
  {
   "cell_type": "code",
   "execution_count": 24,
   "id": "41011596",
   "metadata": {},
   "outputs": [
    {
     "name": "stdout",
     "output_type": "stream",
     "text": [
      "Now analyzing BG\n"
     ]
    }
   ],
   "source": [
    "print('Now analyzing BG')\n",
    "FLUXBG = []\n",
    "EXPTIMEBG = []\n",
    "for i in range(len(LED_BG)):\n",
    "    led = fits.open(LED_BG[i])\n",
    "    led[0].data = led[0].data[101:4212,101:4196]\n",
    "    hdr = led[0].header \n",
    "    flux = led[0].data\n",
    "    mean_flux = round(np.mean(flux),3)\n",
    "    distance_from_mean = abs(flux - mean_flux)\n",
    "    standard_deviation = round(np.std(flux),3)\n",
    "    max_deviations = 3\n",
    "    outlier = distance_from_mean > max_deviations * standard_deviation\n",
    "    no_outlier = distance_from_mean < max_deviations * standard_deviation\n",
    "    flux2 = (flux[no_outlier])\n",
    "    EXPTIMEBG.append(hdr['EXPTIME'])    \n",
    "    FLUXBG.append(np.mean(flux2))\n",
    "\n",
    "NORMBG = []\n",
    "for k in range(len(EXPTIMEBG)):\n",
    "    NORMBG.append(FLUXBG[k]/EXPTIMEBG[k])"
   ]
  },
  {
   "cell_type": "markdown",
   "id": "1bc9d589",
   "metadata": {},
   "source": [
    "### Plot linearity graph"
   ]
  },
  {
   "cell_type": "code",
   "execution_count": 26,
   "id": "59df72ca",
   "metadata": {},
   "outputs": [
    {
     "data": {
      "image/png": "[encoded data removed]",
      "text/plain": [
       "<Figure size 576x432 with 1 Axes>"
      ]
     },
     "metadata": {
      "needs_background": "light"
     },
     "output_type": "display_data"
    }
   ],
   "source": [
    "fig = plt.figure(figsize=(8, 6)) \n",
    "ax = plt.subplot()\n",
    "ax.scatter(EXPTIMEBG, NORMBG,color='black',marker='x',zorder=40,s=50,label='BG filter')\n",
    "\n",
    "ax.legend(fontsize=14)\n",
    "\n",
    "ax.set_facecolor('antiquewhite')\n",
    "ax.patch.set_alpha(.5)\n",
    "ax.grid(color='white', linestyle='-', linewidth=1)\n",
    "ax.set_ylabel(\"Normalized flux [ADU/s]\",fontsize=17)\n",
    "ax.set_xlabel(r'Exposure time, t$_{\\mathrm{exp}}$ [s]',fontsize=17)\n",
    "ax.xaxis.set_major_locator(plt.MaxNLocator(12))\n",
    "ax.tick_params(axis='both', which='major', labelsize=10)\n",
    "ax.tick_params(axis='both', which='minor', labelsize=10)\n"
   ]
  },
  {
   "cell_type": "code",
   "execution_count": null,
   "id": "80b2de13",
   "metadata": {},
   "outputs": [],
   "source": []
  },
  {
   "cell_type": "code",
   "execution_count": null,
   "id": "834cb3fd",
   "metadata": {},
   "outputs": [],
   "source": []
  },
  {
   "cell_type": "code",
   "execution_count": null,
   "id": "68cbb07a",
   "metadata": {},
   "outputs": [],
   "source": []
  }
 ],
 "metadata": {
  "kernelspec": {
   "display_name": "Python 3 (ipykernel)",
   "language": "python",
   "name": "python3"
  },
  "language_info": {
   "codemirror_mode": {
    "name": "ipython",
    "version": 3
   },
   "file_extension": ".py",
   "mimetype": "text/x-python",
   "name": "python",
   "nbconvert_exporter": "python",
   "pygments_lexer": "ipython3",
   "version": "3.8.2"
  }
 },
 "nbformat": 4,
 "nbformat_minor": 5
}
