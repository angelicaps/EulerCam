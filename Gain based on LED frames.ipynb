{
 "cells": [
  {
   "cell_type": "code",
   "execution_count": 2,
   "id": "2d9d799b",
   "metadata": {},
   "outputs": [],
   "source": [
    "from matplotlib.patches import Circle, Wedge, Polygon\n",
    "import matplotlib.gridspec as gridspec\n",
    "from scipy.optimize import curve_fit\n",
    "from scipy.stats import linregress\n",
    "import matplotlib.pyplot as plt\n",
    "from astropy.io import fits\n",
    "from astropy.wcs import WCS\n",
    "import matplotlib as mpl\n",
    "from scipy import stats\n",
    "import pandas as pd\n",
    "import logging, sys\n",
    "import numpy as np\n",
    "import statistics\n",
    "import warnings\n",
    "import argparse\n",
    "import datetime\n",
    "import logging\n",
    "import shutil\n",
    "import time\n",
    "import glob\n",
    "import math\n",
    "import sys\n",
    "import csv\n",
    "import os"
   ]
  },
  {
   "cell_type": "code",
   "execution_count": 3,
   "id": "6c069f54",
   "metadata": {},
   "outputs": [],
   "source": [
    "warnings.filterwarnings(\"ignore\")\n",
    "\n",
    "logging.disable(sys.maxsize)\n",
    "if not sys.warnoptions:\n",
    "    warnings.simplefilter(\"ignore\")\n",
    "\n",
    "logging.disable(sys.maxsize)"
   ]
  },
  {
   "cell_type": "markdown",
   "id": "bb4d1441",
   "metadata": {},
   "source": [
    "### Path to your files and masterbias"
   ]
  },
  {
   "cell_type": "code",
   "execution_count": 5,
   "id": "8666ee91",
   "metadata": {},
   "outputs": [],
   "source": [
    "data_dir_base =\"/Users/angelicapsaridi/Documents/Geneva/Recommissioning/Data/2022-06-19/\" # Raw data stored\n",
    "\n",
    "os.chdir(data_dir_base)\n",
    "masterBias = []\n",
    "\n",
    "\n",
    "hdu_list = fits.open('masterbias.fits')\n",
    "masterBias = hdu_list[0].data"
   ]
  },
  {
   "cell_type": "markdown",
   "id": "1d792016",
   "metadata": {},
   "source": [
    "### Find LED frames"
   ]
  },
  {
   "cell_type": "code",
   "execution_count": 6,
   "id": "0d32ba73",
   "metadata": {},
   "outputs": [],
   "source": [
    "leds = []\n",
    "\n",
    "for frame in glob.glob(\"ECAM.*.fits\"):\n",
    "    hdul = fits.open(frame)\n",
    "    hdr = hdul[0].header \n",
    "    if hdr['OBJECT'] == \"led\" and hdr['FILTER'] == \"VG\":\n",
    "         #if hdr['EXPTIME'] >=48 and hdr['EXPTIME'] <49:\n",
    "        leds.append(hdr['ARCFILE'])\n",
    "leds.sort()"
   ]
  },
  {
   "cell_type": "markdown",
   "id": "52390b15",
   "metadata": {},
   "source": [
    "### Calculate variance and signal for each quadrant"
   ]
  },
  {
   "cell_type": "code",
   "execution_count": 7,
   "id": "d6b43abb",
   "metadata": {},
   "outputs": [],
   "source": [
    "varUL = []\n",
    "signalUL = []\n",
    "varUR = []\n",
    "signalUR = []\n",
    "varLL = []\n",
    "signalLL = []\n",
    "varLR = []\n",
    "signalLR = []"
   ]
  },
  {
   "cell_type": "code",
   "execution_count": 8,
   "id": "0dd50c6f",
   "metadata": {},
   "outputs": [],
   "source": [
    "k = 0\n",
    "for i in range(len(leds)):\n",
    "     for j in range(i+1): \n",
    "        if i!=j:\n",
    "            exposure1 = fits.open(leds[i])[0].header['EXPTIME']\n",
    "            exposure2 = fits.open(leds[j])[0].header['EXPTIME']\n",
    "            if (str(exposure1)[0:2])==(str(exposure2)[0:2]) and exposure1!=15.0010004 and exposure1!=15.0019999 and exposure1!=15:\n",
    "                    k = k+1\n",
    "                    Ccube1 = fits.open(leds[i], mode='update')\n",
    "                    flatA = (Ccube1[0].data[100:4212,100:4196])-masterBias\n",
    "\n",
    "                    Ccube2 = fits.open(leds[j], mode='update')\n",
    "                    flatB = (Ccube2[0].data[100:4212,100:4196])-masterBias\n",
    "                    #LL\n",
    "                    centx, centy = 1000, 1000\n",
    "                    squareSide = 100\n",
    "\n",
    "                    meanA = np.mean(flatA[(centx-squareSide):(centx+squareSide) ,\n",
    "                                              (centy-squareSide):(centy+squareSide)])\n",
    "\n",
    "\n",
    "                    meanB = np.mean(flatB[(centx-squareSide):(centx+squareSide) ,\n",
    "                                              (centy-squareSide):(centy+squareSide)])\n",
    "\n",
    "                    r = meanA/meanB\n",
    "                    flatBnew = flatB*r\n",
    "                    k = flatA-flatBnew\n",
    "                    stdK = np.std(k[(centx-squareSide):(centx+squareSide) ,\n",
    "                                              (centy-squareSide):(centy+squareSide)])\n",
    "                    varLL.append((stdK**2)/2)\n",
    "                    signalLL.append(meanA)\n",
    "                    #UL\n",
    "\n",
    "                    centx, centy = 1000, 3000\n",
    "                    squareSide = 100\n",
    "\n",
    "                    meanA = np.mean(flatA[(centx-squareSide):(centx+squareSide) ,\n",
    "                                              (centy-squareSide):(centy+squareSide)])\n",
    "\n",
    "\n",
    "                    meanB = np.mean(flatB[(centx-squareSide):(centx+squareSide) ,\n",
    "                                              (centy-squareSide):(centy+squareSide)])\n",
    "\n",
    "                    r = meanA/meanB\n",
    "                    flatBnew = flatB*r\n",
    "                    k = flatA-flatBnew\n",
    "                    stdK = np.std(k[(centx-squareSide):(centx+squareSide) ,\n",
    "                                              (centy-squareSide):(centy+squareSide)])\n",
    "                    varUL.append((stdK**2)/2)\n",
    "                    signalUL.append(meanA)\n",
    "                    #LR\n",
    "\n",
    "                    centx, centy = 3000, 1000\n",
    "                    squareSide = 100\n",
    "\n",
    "                    meanA = np.mean(flatA[(centx-squareSide):(centx+squareSide) ,\n",
    "                                              (centy-squareSide):(centy+squareSide)])\n",
    "\n",
    "\n",
    "                    meanB = np.mean(flatB[(centx-squareSide):(centx+squareSide) ,\n",
    "                                              (centy-squareSide):(centy+squareSide)])\n",
    "\n",
    "                    r = meanA/meanB\n",
    "                    flatBnew = flatB*r\n",
    "                    k = flatA-flatBnew\n",
    "                    stdK = np.std(k[(centx-squareSide):(centx+squareSide) ,\n",
    "                                              (centy-squareSide):(centy+squareSide)])\n",
    "                    varLR.append((stdK**2)/2)\n",
    "                    signalLR.append(meanA)\n",
    "\n",
    "                    #UR\n",
    "\n",
    "                    centx, centy = 3000, 3000\n",
    "                    squareSide = 100\n",
    "\n",
    "                    meanA = np.mean(flatA[(centx-squareSide):(centx+squareSide) ,\n",
    "                                              (centy-squareSide):(centy+squareSide)])\n",
    "\n",
    "\n",
    "                    meanB = np.mean(flatB[(centx-squareSide):(centx+squareSide) ,\n",
    "                                              (centy-squareSide):(centy+squareSide)])\n",
    "\n",
    "                    r = meanA/meanB\n",
    "                    flatBnew = flatB*r\n",
    "                    k = flatA-flatBnew\n",
    "                    stdK = np.std(k[(centx-squareSide):(centx+squareSide) ,\n",
    "                                              (centy-squareSide):(centy+squareSide)])\n",
    "                    varUR.append((stdK**2)/2)\n",
    "                    signalUR.append(meanA)\n",
    "\n",
    "\n"
   ]
  },
  {
   "cell_type": "markdown",
   "id": "2af721cd",
   "metadata": {},
   "source": [
    "### Fit polynomial to calculate gain"
   ]
  },
  {
   "cell_type": "code",
   "execution_count": 16,
   "id": "ab190f06",
   "metadata": {
    "scrolled": true
   },
   "outputs": [
    {
     "name": "stdout",
     "output_type": "stream",
     "text": [
      "Lower left quadrant\n",
      "The gain of the CCD is 2.777 electrons/ADU\n",
      "The gain error 0.0004 electrons/ADU\n",
      "Lower right quadrant\n",
      "The gain of the CCD is 2.754 electrons/ADU\n",
      "The gain error 0.0004 electrons/ADU\n",
      "Upper left quadrant\n",
      "The gain of the CCD is 2.735 electrons/ADU\n",
      "The gain error 0.0005 electrons/ADU\n",
      "Upper right quadrant\n",
      "The gain of the CCD is 2.647 electrons/ADU\n",
      "The gain error 0.0038 electrons/ADU\n"
     ]
    }
   ],
   "source": [
    "#LL\n",
    "print('Lower left quadrant')\n",
    "polyFit = np.polyfit(signalLL, varLL, deg=1, cov = True)\n",
    "\n",
    "a1, a0 = polyFit[0]\n",
    "\n",
    "\n",
    "gain = 1/a1\n",
    "\n",
    "slope_err = polyFit[1][0,0]\n",
    "gain_err = gain * slope_err / a1\n",
    "mean_fit = np.linspace(20,2400,1000)\n",
    "variance_fit = a0 + a1 * mean_fit\n",
    "print('The gain of the CCD is',np.round(gain,3),'electrons/ADU')\n",
    "print('The gain error',np.round(gain_err,4),'electrons/ADU')\n",
    "\n",
    "#LR\n",
    "print('Lower right quadrant')\n",
    "\n",
    "polyFit = np.polyfit(signalLR, varLR, deg=1, cov = True)\n",
    "\n",
    "a1, a0 = polyFit[0]\n",
    "\n",
    "\n",
    "gain = 1/a1\n",
    "\n",
    "slope_err = polyFit[1][0,0]\n",
    "gain_err = gain * slope_err / a1\n",
    "mean_fit = np.linspace(20,2400,1000)\n",
    "variance_fit = a0 + a1 * mean_fit\n",
    "print('The gain of the CCD is',np.round(gain,3),'electrons/ADU')\n",
    "print('The gain error',np.round(gain_err,4),'electrons/ADU')\n",
    "\n",
    "#UL\n",
    "print('Upper left quadrant')\n",
    "\n",
    "polyFit = np.polyfit(signalUL, varUL, deg=1, cov = True)\n",
    "\n",
    "a1, a0 = polyFit[0]\n",
    "\n",
    "\n",
    "gain = 1/a1\n",
    "\n",
    "slope_err = polyFit[1][0,0]\n",
    "gain_err = gain * slope_err / a1\n",
    "mean_fit = np.linspace(20,2400,1000)\n",
    "variance_fit = a0 + a1 * mean_fit\n",
    "print('The gain of the CCD is',np.round(gain,3),'electrons/ADU')\n",
    "print('The gain error',np.round(gain_err,4),'electrons/ADU')\n",
    "\n",
    "#UR\n",
    "print('Upper right quadrant')\n",
    "\n",
    "\n",
    "polyFit = np.polyfit(signalUR, varUR, deg=1, cov = True)\n",
    "\n",
    "a1, a0 = polyFit[0]\n",
    "\n",
    "\n",
    "gain = 1/a1\n",
    "\n",
    "slope_err = polyFit[1][0,0]\n",
    "gain_err = gain * slope_err / a1\n",
    "mean_fit = np.linspace(20,2400,1000)\n",
    "variance_fit = a0 + a1 * mean_fit\n",
    "print('The gain of the CCD is',np.round(gain,3),'electrons/ADU')\n",
    "print('The gain error',np.round(gain_err,4),'electrons/ADU')"
   ]
  },
  {
   "cell_type": "markdown",
   "id": "383d7157",
   "metadata": {},
   "source": [
    "### Plot gain graph"
   ]
  },
  {
   "cell_type": "code",
   "execution_count": 15,
   "id": "a9387e4c",
   "metadata": {},
   "outputs": [
    {
     "data": {
      "image/png": "[encoded data removed]",
      "text/plain": [
       "<Figure size 576x432 with 1 Axes>"
      ]
     },
     "metadata": {
      "needs_background": "light"
     },
     "output_type": "display_data"
    }
   ],
   "source": [
    "fig = plt.figure(figsize=(8, 6)) \n",
    "ax = plt.subplot()\n",
    "ax.scatter(signalLL, varLL,color='black',marker='x',zorder=40,s=70,label='LL')\n",
    "ax.scatter(signalLR, varLR,color='firebrick',marker='x',zorder=40,s=70,label='LR')\n",
    "ax.scatter(signalUL, varUL,color='purple',marker='x',zorder=40,s=70,label='UL')\n",
    "ax.scatter(signalUR, varUR,color='steelblue',marker='x',zorder=40,s=70,label='UR')\n",
    "\n",
    "\n",
    "\n",
    "ax.legend(fontsize=15)\n",
    "\n",
    "ax.set_facecolor('antiquewhite')\n",
    "ax.patch.set_alpha(.5)\n",
    "ax.grid(color='white', linestyle='-', linewidth=1)\n",
    "ax.set_ylabel(\"Variance\",fontsize=20)\n",
    "ax.set_xlabel(\"Flux [ADU]\",fontsize=20)\n",
    "ax.xaxis.set_major_locator(plt.MaxNLocator(10))\n",
    "ax.tick_params(axis='both', which='major', labelsize=14)\n",
    "ax.tick_params(axis='both', which='minor', labelsize=14)\n"
   ]
  },
  {
   "cell_type": "code",
   "execution_count": null,
   "id": "7c6b6075",
   "metadata": {},
   "outputs": [],
   "source": []
  }
 ],
 "metadata": {
  "kernelspec": {
   "display_name": "Python 3 (ipykernel)",
   "language": "python",
   "name": "python3"
  },
  "language_info": {
   "codemirror_mode": {
    "name": "ipython",
    "version": 3
   },
   "file_extension": ".py",
   "mimetype": "text/x-python",
   "name": "python",
   "nbconvert_exporter": "python",
   "pygments_lexer": "ipython3",
   "version": "3.8.2"
  }
 },
 "nbformat": 4,
 "nbformat_minor": 5
}
